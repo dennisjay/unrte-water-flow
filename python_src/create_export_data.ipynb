{
 "cells": [
  {
   "cell_type": "code",
   "execution_count": 1,
   "metadata": {},
   "outputs": [],
   "source": [
    "import pandas as pd"
   ]
  },
  {
   "cell_type": "code",
   "execution_count": 2,
   "metadata": {},
   "outputs": [],
   "source": [
    "sites = pd.read_csv('./Waterbase_v2018_1_WISE3_csv/Waterbase_v2018_1_WISE3_MonitoringSite_DerivedData.csv')"
   ]
  },
  {
   "cell_type": "code",
   "execution_count": 3,
   "metadata": {},
   "outputs": [
    {
     "name": "stderr",
     "output_type": "stream",
     "text": [
      "/anaconda3/lib/python3.6/site-packages/IPython/core/interactiveshell.py:3044: DtypeWarning: Columns (5,6,11) have mixed types. Specify dtype option on import or set low_memory=False.\n",
      "  interactivity=interactivity, compiler=compiler, result=result)\n"
     ]
    }
   ],
   "source": [
    "wise3 = pd.read_csv('./Waterbase_v2018_1_WISE3_csv/Waterbase_v2018_1_T_WISE3_MonitoringData.csv')"
   ]
  },
  {
   "cell_type": "code",
   "execution_count": 4,
   "metadata": {},
   "outputs": [],
   "source": [
    "wise4 = pd.read_csv( './Waterbase_v2018_1_WISE4_csv/Waterbase_v2018_1_WISE4_MonitoringSite_DerivedData.csv')"
   ]
  },
  {
   "cell_type": "code",
   "execution_count": 5,
   "metadata": {},
   "outputs": [
    {
     "name": "stdout",
     "output_type": "stream",
     "text": [
      "Index(['monitoringSiteIdentifier', 'monitoringSiteIdentifierScheme',\n",
      "       'observedProperty', 'phenomenonTimePeriod', 'resultObservedValue',\n",
      "       'resultObservationStatus', 'Remarks', 'metadata_versionId',\n",
      "       'metadata_beginLifeSpanVersion', 'metadata_statusCode',\n",
      "       'metadata_observationStatus', 'metadata_statements', 'UID'],\n",
      "      dtype='object')\n"
     ]
    }
   ],
   "source": [
    "print(wise3.columns)\n",
    "\n",
    "water_flow = wise3[['monitoringSiteIdentifier','phenomenonTimePeriod', 'observedProperty', 'resultObservedValue']]\\\n",
    "    .pivot_table(index=['monitoringSiteIdentifier', 'phenomenonTimePeriod'], columns=['observedProperty'], values=['resultObservedValue'])\\\n",
    "    .reset_index()"
   ]
  },
  {
   "cell_type": "code",
   "execution_count": 6,
   "metadata": {},
   "outputs": [
    {
     "name": "stdout",
     "output_type": "stream",
     "text": [
      "Index(['monitoringSiteIdentifier', 'monitoringSiteIdentifierScheme',\n",
      "       'waterBodyIdentifier', 'waterBodyIdentifierScheme',\n",
      "       'confidentialityStatus', 'lon', 'lat'],\n",
      "      dtype='object')\n"
     ]
    }
   ],
   "source": [
    "print(wise4.columns)"
   ]
  },
  {
   "cell_type": "code",
   "execution_count": 16,
   "metadata": {},
   "outputs": [
    {
     "name": "stderr",
     "output_type": "stream",
     "text": [
      "/anaconda3/lib/python3.6/site-packages/pandas/core/reshape/merge.py:522: UserWarning: merging between different levels can give an unintended result (2 levels on the left, 1 on the right)\n",
      "  warnings.warn(msg, UserWarning)\n"
     ]
    }
   ],
   "source": [
    "merged = water_flow.merge(sites, on='monitoringSiteIdentifier')\n",
    "\n",
    "merged = merged[[('phenomenonTimePeriod', '' ), ('resultObservedValue', 'GWL'), ('resultObservedValue', 'SF'), 'lat', 'lon']] \n",
    "merged.columns = [ 'date', 'ground_water_level', 'stream_flow', 'location.lat', 'location.lon' ]\n",
    "\n",
    "merged = merged.dropna(subset=['location.lat', 'location.lon'])\n",
    "merged['location'] = merged['location.lat'].astype('U32') + ',' + merged['location.lon'].astype('U32')\n",
    "merged.drop(['location.lat', 'location.lon'], axis=1, inplace=True)"
   ]
  },
  {
   "cell_type": "code",
   "execution_count": 17,
   "metadata": {},
   "outputs": [],
   "source": [
    "merged.to_csv('data.csv', index=False)"
   ]
  },
  {
   "cell_type": "code",
   "execution_count": null,
   "metadata": {},
   "outputs": [],
   "source": []
  }
 ],
 "metadata": {
  "kernelspec": {
   "display_name": "Python 3",
   "language": "python",
   "name": "python3"
  },
  "language_info": {
   "codemirror_mode": {
    "name": "ipython",
    "version": 3
   },
   "file_extension": ".py",
   "mimetype": "text/x-python",
   "name": "python",
   "nbconvert_exporter": "python",
   "pygments_lexer": "ipython3",
   "version": "3.6.7"
  }
 },
 "nbformat": 4,
 "nbformat_minor": 1
}
